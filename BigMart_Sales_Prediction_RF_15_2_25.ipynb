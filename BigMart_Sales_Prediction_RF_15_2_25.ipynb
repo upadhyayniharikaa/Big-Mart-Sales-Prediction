{
 "cells": [
  {
   "cell_type": "code",
   "execution_count": 73,
   "id": "c7c1a494-630c-4709-a740-854b4b59318e",
   "metadata": {},
   "outputs": [],
   "source": [
    "# Import necessary libraries\n",
    "import numpy as np\n",
    "import pandas as pd\n",
    "import warnings\n",
    "import matplotlib.pyplot as plt\n",
    "import seaborn as sns\n",
    "from sklearn.model_selection import train_test_split, GridSearchCV\n",
    "from sklearn.metrics import r2_score, mean_squared_error, mean_absolute_error\n",
    "from sklearn.ensemble import RandomForestRegressor"
   ]
  },
  {
   "cell_type": "code",
   "execution_count": 75,
   "id": "32e1edd4-07fe-478a-9390-833e1950be87",
   "metadata": {},
   "outputs": [],
   "source": [
    "# Suppress warnings for cleaner output\n",
    "warnings.filterwarnings(\"ignore\")"
   ]
  },
  {
   "cell_type": "code",
   "execution_count": 77,
   "id": "d328fab5-315a-40d5-9ac3-d3a2b2b0f73f",
   "metadata": {},
   "outputs": [],
   "source": [
    "# Load the training and test datasets\n",
    "big_mart_df_train = pd.read_csv(\"C:/Users/DELL/Downloads/train_v9rqX0R(2).csv\")\n",
    "big_mart_df_test = pd.read_csv(\"C:/Users/DELL/Downloads/test_AbJTz2l(3).csv\")"
   ]
  },
  {
   "cell_type": "code",
   "execution_count": 79,
   "id": "08314445-71d7-4371-a408-00cb131a7979",
   "metadata": {},
   "outputs": [],
   "source": [
    "# Combine both training and test datasets for preprocessing\n",
    "big_mart_df = pd.concat([big_mart_df_train, big_mart_df_test], axis=0)"
   ]
  },
  {
   "cell_type": "code",
   "execution_count": 81,
   "id": "572618e1-635f-420d-b627-301a37ed17b6",
   "metadata": {},
   "outputs": [
    {
     "name": "stdout",
     "output_type": "stream",
     "text": [
      "First few rows of the dataset:\n"
     ]
    },
    {
     "data": {
      "text/html": [
       "<div>\n",
       "<style scoped>\n",
       "    .dataframe tbody tr th:only-of-type {\n",
       "        vertical-align: middle;\n",
       "    }\n",
       "\n",
       "    .dataframe tbody tr th {\n",
       "        vertical-align: top;\n",
       "    }\n",
       "\n",
       "    .dataframe thead th {\n",
       "        text-align: right;\n",
       "    }\n",
       "</style>\n",
       "<table border=\"1\" class=\"dataframe\">\n",
       "  <thead>\n",
       "    <tr style=\"text-align: right;\">\n",
       "      <th></th>\n",
       "      <th>Item_Identifier</th>\n",
       "      <th>Item_Weight</th>\n",
       "      <th>Item_Fat_Content</th>\n",
       "      <th>Item_Visibility</th>\n",
       "      <th>Item_Type</th>\n",
       "      <th>Item_MRP</th>\n",
       "      <th>Outlet_Identifier</th>\n",
       "      <th>Outlet_Establishment_Year</th>\n",
       "      <th>Outlet_Size</th>\n",
       "      <th>Outlet_Location_Type</th>\n",
       "      <th>Outlet_Type</th>\n",
       "      <th>Item_Outlet_Sales</th>\n",
       "    </tr>\n",
       "  </thead>\n",
       "  <tbody>\n",
       "    <tr>\n",
       "      <th>0</th>\n",
       "      <td>FDA15</td>\n",
       "      <td>9.30</td>\n",
       "      <td>Low Fat</td>\n",
       "      <td>0.016047</td>\n",
       "      <td>Dairy</td>\n",
       "      <td>249.8092</td>\n",
       "      <td>OUT049</td>\n",
       "      <td>1999</td>\n",
       "      <td>Medium</td>\n",
       "      <td>Tier 1</td>\n",
       "      <td>Supermarket Type1</td>\n",
       "      <td>3735.1380</td>\n",
       "    </tr>\n",
       "    <tr>\n",
       "      <th>1</th>\n",
       "      <td>DRC01</td>\n",
       "      <td>5.92</td>\n",
       "      <td>Regular</td>\n",
       "      <td>0.019278</td>\n",
       "      <td>Soft Drinks</td>\n",
       "      <td>48.2692</td>\n",
       "      <td>OUT018</td>\n",
       "      <td>2009</td>\n",
       "      <td>Medium</td>\n",
       "      <td>Tier 3</td>\n",
       "      <td>Supermarket Type2</td>\n",
       "      <td>443.4228</td>\n",
       "    </tr>\n",
       "    <tr>\n",
       "      <th>2</th>\n",
       "      <td>FDN15</td>\n",
       "      <td>17.50</td>\n",
       "      <td>Low Fat</td>\n",
       "      <td>0.016760</td>\n",
       "      <td>Meat</td>\n",
       "      <td>141.6180</td>\n",
       "      <td>OUT049</td>\n",
       "      <td>1999</td>\n",
       "      <td>Medium</td>\n",
       "      <td>Tier 1</td>\n",
       "      <td>Supermarket Type1</td>\n",
       "      <td>2097.2700</td>\n",
       "    </tr>\n",
       "    <tr>\n",
       "      <th>3</th>\n",
       "      <td>FDX07</td>\n",
       "      <td>19.20</td>\n",
       "      <td>Regular</td>\n",
       "      <td>0.000000</td>\n",
       "      <td>Fruits and Vegetables</td>\n",
       "      <td>182.0950</td>\n",
       "      <td>OUT010</td>\n",
       "      <td>1998</td>\n",
       "      <td>NaN</td>\n",
       "      <td>Tier 3</td>\n",
       "      <td>Grocery Store</td>\n",
       "      <td>732.3800</td>\n",
       "    </tr>\n",
       "    <tr>\n",
       "      <th>4</th>\n",
       "      <td>NCD19</td>\n",
       "      <td>8.93</td>\n",
       "      <td>Low Fat</td>\n",
       "      <td>0.000000</td>\n",
       "      <td>Household</td>\n",
       "      <td>53.8614</td>\n",
       "      <td>OUT013</td>\n",
       "      <td>1987</td>\n",
       "      <td>High</td>\n",
       "      <td>Tier 3</td>\n",
       "      <td>Supermarket Type1</td>\n",
       "      <td>994.7052</td>\n",
       "    </tr>\n",
       "  </tbody>\n",
       "</table>\n",
       "</div>"
      ],
      "text/plain": [
       "  Item_Identifier  Item_Weight Item_Fat_Content  Item_Visibility  \\\n",
       "0           FDA15         9.30          Low Fat         0.016047   \n",
       "1           DRC01         5.92          Regular         0.019278   \n",
       "2           FDN15        17.50          Low Fat         0.016760   \n",
       "3           FDX07        19.20          Regular         0.000000   \n",
       "4           NCD19         8.93          Low Fat         0.000000   \n",
       "\n",
       "               Item_Type  Item_MRP Outlet_Identifier  \\\n",
       "0                  Dairy  249.8092            OUT049   \n",
       "1            Soft Drinks   48.2692            OUT018   \n",
       "2                   Meat  141.6180            OUT049   \n",
       "3  Fruits and Vegetables  182.0950            OUT010   \n",
       "4              Household   53.8614            OUT013   \n",
       "\n",
       "   Outlet_Establishment_Year Outlet_Size Outlet_Location_Type  \\\n",
       "0                       1999      Medium               Tier 1   \n",
       "1                       2009      Medium               Tier 3   \n",
       "2                       1999      Medium               Tier 1   \n",
       "3                       1998         NaN               Tier 3   \n",
       "4                       1987        High               Tier 3   \n",
       "\n",
       "         Outlet_Type  Item_Outlet_Sales  \n",
       "0  Supermarket Type1          3735.1380  \n",
       "1  Supermarket Type2           443.4228  \n",
       "2  Supermarket Type1          2097.2700  \n",
       "3      Grocery Store           732.3800  \n",
       "4  Supermarket Type1           994.7052  "
      ]
     },
     "execution_count": 81,
     "metadata": {},
     "output_type": "execute_result"
    }
   ],
   "source": [
    "# Display first few rows of the dataset for inspection\n",
    "print(\"First few rows of the dataset:\")\n",
    "big_mart_df.head()"
   ]
  },
  {
   "cell_type": "markdown",
   "id": "86de1065-c616-45cc-95c1-cadce4d4d16b",
   "metadata": {},
   "source": [
    "Data Cleaning and Preprocessing"
   ]
  },
  {
   "cell_type": "code",
   "execution_count": 83,
   "id": "ef065340-98c2-4f02-a823-7c1e6c4103d1",
   "metadata": {},
   "outputs": [
    {
     "name": "stdout",
     "output_type": "stream",
     "text": [
      "(8523, 12) (5681, 11) (14204, 12)\n"
     ]
    }
   ],
   "source": [
    "# Structure of data\n",
    "print(big_mart_df_train.shape, big_mart_df_test.shape, big_mart_df.shape)"
   ]
  },
  {
   "cell_type": "code",
   "execution_count": 85,
   "id": "f908a400-ecf5-4743-b3a3-e8de4d47fe9d",
   "metadata": {},
   "outputs": [
    {
     "name": "stdout",
     "output_type": "stream",
     "text": [
      "<class 'pandas.core.frame.DataFrame'>\n",
      "Index: 14204 entries, 0 to 5680\n",
      "Data columns (total 12 columns):\n",
      " #   Column                     Non-Null Count  Dtype  \n",
      "---  ------                     --------------  -----  \n",
      " 0   Item_Identifier            14204 non-null  object \n",
      " 1   Item_Weight                11765 non-null  float64\n",
      " 2   Item_Fat_Content           14204 non-null  object \n",
      " 3   Item_Visibility            14204 non-null  float64\n",
      " 4   Item_Type                  14204 non-null  object \n",
      " 5   Item_MRP                   14204 non-null  float64\n",
      " 6   Outlet_Identifier          14204 non-null  object \n",
      " 7   Outlet_Establishment_Year  14204 non-null  int64  \n",
      " 8   Outlet_Size                10188 non-null  object \n",
      " 9   Outlet_Location_Type       14204 non-null  object \n",
      " 10  Outlet_Type                14204 non-null  object \n",
      " 11  Item_Outlet_Sales          8523 non-null   float64\n",
      "dtypes: float64(4), int64(1), object(7)\n",
      "memory usage: 1.4+ MB\n"
     ]
    }
   ],
   "source": [
    "#Information of variables to check their data types.\n",
    "big_mart_df.info()"
   ]
  },
  {
   "cell_type": "code",
   "execution_count": 87,
   "id": "a5094cc7-302f-4f9c-9e6e-7b8363fdb04b",
   "metadata": {},
   "outputs": [
    {
     "data": {
      "text/plain": [
       "Item_Identifier               0.00\n",
       "Item_Fat_Content              0.00\n",
       "Item_Visibility               0.00\n",
       "Item_Type                     0.00\n",
       "Item_MRP                      0.00\n",
       "Outlet_Identifier             0.00\n",
       "Outlet_Establishment_Year     0.00\n",
       "Outlet_Location_Type          0.00\n",
       "Outlet_Type                   0.00\n",
       "Item_Weight                  17.17\n",
       "Outlet_Size                  28.27\n",
       "Item_Outlet_Sales            40.00\n",
       "dtype: float64"
      ]
     },
     "execution_count": 87,
     "metadata": {},
     "output_type": "execute_result"
    }
   ],
   "source": [
    "#calculate the percentage of missing values in uber_df.\n",
    "round(big_mart_df.isna().sum()/len(big_mart_df)*100,2).sort_values()"
   ]
  },
  {
   "cell_type": "code",
   "execution_count": 7,
   "id": "32ea2737-8348-4ddf-9fbb-89fb44ae8f9c",
   "metadata": {},
   "outputs": [],
   "source": [
    "# Convert all string columns (object type) to uppercase\n",
    "big_mart_df = big_mart_df.apply(lambda x: x.str.upper() if x.dtype == 'O' else x)"
   ]
  },
  {
   "cell_type": "code",
   "execution_count": 8,
   "id": "23e0aa75-7bbc-4d71-97bf-50596860982a",
   "metadata": {},
   "outputs": [],
   "source": [
    "# Correct values in 'Item_Fat_Content' column: standardize 'LF' and 'REG'\n",
    "big_mart_df['Item_Fat_Content'].replace({'LF': 'LOW FAT', 'REG': 'REGULAR'}, inplace=True)"
   ]
  },
  {
   "cell_type": "code",
   "execution_count": 9,
   "id": "bafda373-50e8-4dfc-bd26-155a7c17a00c",
   "metadata": {},
   "outputs": [],
   "source": [
    "# Fill missing values in the 'Item_Weight' column with the mean\n",
    "big_mart_df['Item_Weight'].fillna(big_mart_df['Item_Weight'].mean(),inplace=True)"
   ]
  },
  {
   "cell_type": "code",
   "execution_count": 10,
   "id": "ad1ff8bd-5c83-4434-a24e-2c2b57cd8138",
   "metadata": {},
   "outputs": [],
   "source": [
    "# Fill missing values in the 'Outlet_Size' column with 'OTHERS'\n",
    "big_mart_df['Outlet_Size'].fillna('OTHERS', inplace=True)"
   ]
  },
  {
   "cell_type": "code",
   "execution_count": 11,
   "id": "f6345fa7-bd90-4d18-b15d-a0be89db9526",
   "metadata": {},
   "outputs": [],
   "source": [
    "# Create a copy of the test data with 'Item_Identifier' and 'Outlet_Identifier'\n",
    "big_mart_df_test_with_ids = big_mart_df_test[['Item_Identifier', 'Outlet_Identifier']].copy()"
   ]
  },
  {
   "cell_type": "code",
   "execution_count": 12,
   "id": "6ba7f6f2-30eb-40a5-84ba-30d9f8c502a5",
   "metadata": {},
   "outputs": [],
   "source": [
    "# Drop 'Item_Identifier' and 'Outlet_Identifier' columns as they are not needed for modeling\n",
    "big_mart_df.drop(['Item_Identifier', 'Outlet_Identifier'], axis=1, inplace=True)"
   ]
  },
  {
   "cell_type": "markdown",
   "id": "de9c3315-9131-483a-89fe-e1362085d680",
   "metadata": {},
   "source": [
    "One-hot Encoding"
   ]
  },
  {
   "cell_type": "code",
   "execution_count": 14,
   "id": "a26c761b-731c-4da9-a324-63663fe66986",
   "metadata": {},
   "outputs": [],
   "source": [
    "# Perform one-hot encoding for categorical variables (drop the first column to avoid multicollinearity)\n",
    "big_mart_df = pd.get_dummies(big_mart_df, drop_first=True, dtype=int)"
   ]
  },
  {
   "cell_type": "code",
   "execution_count": 15,
   "id": "5948ea35-2710-4233-bb02-6a3fe5021bf9",
   "metadata": {},
   "outputs": [],
   "source": [
    "# Split the combined data back into training and test datasets\n",
    "big_mart_df_train = big_mart_df.loc[~big_mart_df[\"Item_Outlet_Sales\"].isna(),]\n",
    "big_mart_df_test = big_mart_df.loc[big_mart_df[\"Item_Outlet_Sales\"].isna(),]"
   ]
  },
  {
   "cell_type": "code",
   "execution_count": 16,
   "id": "f9e552d2-fe4f-42d1-aa57-1efe3ef7c98c",
   "metadata": {},
   "outputs": [
    {
     "name": "stdout",
     "output_type": "stream",
     "text": [
      "Shape of training data: (8523, 29)\n",
      "Shape of test data: (5681, 29)\n"
     ]
    }
   ],
   "source": [
    "print(\"Shape of training data:\", big_mart_df_train.shape)\n",
    "print(\"Shape of test data:\", big_mart_df_test.shape)"
   ]
  },
  {
   "cell_type": "markdown",
   "id": "0e67f529-6d28-4f31-bd78-eb83b6ce0484",
   "metadata": {},
   "source": [
    "Feature and Target Separation"
   ]
  },
  {
   "cell_type": "code",
   "execution_count": 18,
   "id": "0f365eee-e1b3-4f25-891c-2e42c207ecf7",
   "metadata": {},
   "outputs": [],
   "source": [
    "# Define the features (X) and target variable (y) for training the model\n",
    "X = big_mart_df_train.drop([\"Item_Outlet_Sales\"], axis=1)  # Drop target column from features\n",
    "y = big_mart_df_train[\"Item_Outlet_Sales\"]  # Target column"
   ]
  },
  {
   "cell_type": "code",
   "execution_count": 19,
   "id": "43f56ef5-1af0-4d6a-aa9a-1cd53bd16d66",
   "metadata": {},
   "outputs": [
    {
     "name": "stdout",
     "output_type": "stream",
     "text": [
      "Training data shapes: (6392, 28), (6392,)\n",
      "Testing data shapes: (2131, 28), (2131,)\n"
     ]
    }
   ],
   "source": [
    "# Split the training data into training and testing sets (for cross-validation)\n",
    "X_train, X_test, y_train, y_test = train_test_split(X, y, test_size=0.25, random_state=10)\n",
    "\n",
    "print(f\"Training data shapes: {X_train.shape}, {y_train.shape}\")\n",
    "print(f\"Testing data shapes: {X_test.shape}, {y_test.shape}\")\n"
   ]
  },
  {
   "cell_type": "markdown",
   "id": "38e6d9e4-6ffe-48aa-b0a6-362036646ecb",
   "metadata": {},
   "source": [
    "Model Initialization and Training"
   ]
  },
  {
   "cell_type": "code",
   "execution_count": 21,
   "id": "5c42a5be-db28-4239-9d8d-7070fd395dd0",
   "metadata": {},
   "outputs": [],
   "source": [
    "# Initialize a Random Forest Regressor model\n",
    "RF_regressor = RandomForestRegressor(random_state=10)"
   ]
  },
  {
   "cell_type": "code",
   "execution_count": 22,
   "id": "de3bcb35-9010-4d42-9690-8b356ed8e2e2",
   "metadata": {},
   "outputs": [],
   "source": [
    "# Define hyperparameter grid for tuning\n",
    "param_grid = {\n",
    "    'n_estimators': [100, 200, 300],  # Number of trees in the forest\n",
    "    'max_depth': [3, 5, 7, 10, None],  # Maximum depth of trees\n",
    "    'min_samples_split': [2, 5, 10],  # Minimum samples required to split a node\n",
    "    'min_samples_leaf': [1, 2, 4],    # Minimum samples required at a leaf node\n",
    "    'max_features': ['auto', 'sqrt', 'log2', None],  # Number of features to consider for the best split\n",
    "    'bootstrap': [True, False]  # Whether bootstrap samples are used when building trees\n",
    "}"
   ]
  },
  {
   "cell_type": "code",
   "execution_count": 43,
   "id": "89bba646-302a-469b-ac23-da2fbc821783",
   "metadata": {},
   "outputs": [],
   "source": [
    "# Perform hyperparameter tuning using GridSearchCV\n",
    "grid_search = GridSearchCV(estimator=RF_regressor, param_grid=param_grid, cv=5, n_jobs=-1, verbose=2, scoring='neg_mean_squared_error')\n"
   ]
  },
  {
   "cell_type": "code",
   "execution_count": 45,
   "id": "83d6ff28-70e4-41d7-826d-ed6cc3b18e9d",
   "metadata": {},
   "outputs": [
    {
     "name": "stdout",
     "output_type": "stream",
     "text": [
      "Fitting 5 folds for each of 1080 candidates, totalling 5400 fits\n"
     ]
    },
    {
     "data": {
      "text/html": [
       "<style>#sk-container-id-1 {color: black;background-color: white;}#sk-container-id-1 pre{padding: 0;}#sk-container-id-1 div.sk-toggleable {background-color: white;}#sk-container-id-1 label.sk-toggleable__label {cursor: pointer;display: block;width: 100%;margin-bottom: 0;padding: 0.3em;box-sizing: border-box;text-align: center;}#sk-container-id-1 label.sk-toggleable__label-arrow:before {content: \"▸\";float: left;margin-right: 0.25em;color: #696969;}#sk-container-id-1 label.sk-toggleable__label-arrow:hover:before {color: black;}#sk-container-id-1 div.sk-estimator:hover label.sk-toggleable__label-arrow:before {color: black;}#sk-container-id-1 div.sk-toggleable__content {max-height: 0;max-width: 0;overflow: hidden;text-align: left;background-color: #f0f8ff;}#sk-container-id-1 div.sk-toggleable__content pre {margin: 0.2em;color: black;border-radius: 0.25em;background-color: #f0f8ff;}#sk-container-id-1 input.sk-toggleable__control:checked~div.sk-toggleable__content {max-height: 200px;max-width: 100%;overflow: auto;}#sk-container-id-1 input.sk-toggleable__control:checked~label.sk-toggleable__label-arrow:before {content: \"▾\";}#sk-container-id-1 div.sk-estimator input.sk-toggleable__control:checked~label.sk-toggleable__label {background-color: #d4ebff;}#sk-container-id-1 div.sk-label input.sk-toggleable__control:checked~label.sk-toggleable__label {background-color: #d4ebff;}#sk-container-id-1 input.sk-hidden--visually {border: 0;clip: rect(1px 1px 1px 1px);clip: rect(1px, 1px, 1px, 1px);height: 1px;margin: -1px;overflow: hidden;padding: 0;position: absolute;width: 1px;}#sk-container-id-1 div.sk-estimator {font-family: monospace;background-color: #f0f8ff;border: 1px dotted black;border-radius: 0.25em;box-sizing: border-box;margin-bottom: 0.5em;}#sk-container-id-1 div.sk-estimator:hover {background-color: #d4ebff;}#sk-container-id-1 div.sk-parallel-item::after {content: \"\";width: 100%;border-bottom: 1px solid gray;flex-grow: 1;}#sk-container-id-1 div.sk-label:hover label.sk-toggleable__label {background-color: #d4ebff;}#sk-container-id-1 div.sk-serial::before {content: \"\";position: absolute;border-left: 1px solid gray;box-sizing: border-box;top: 0;bottom: 0;left: 50%;z-index: 0;}#sk-container-id-1 div.sk-serial {display: flex;flex-direction: column;align-items: center;background-color: white;padding-right: 0.2em;padding-left: 0.2em;position: relative;}#sk-container-id-1 div.sk-item {position: relative;z-index: 1;}#sk-container-id-1 div.sk-parallel {display: flex;align-items: stretch;justify-content: center;background-color: white;position: relative;}#sk-container-id-1 div.sk-item::before, #sk-container-id-1 div.sk-parallel-item::before {content: \"\";position: absolute;border-left: 1px solid gray;box-sizing: border-box;top: 0;bottom: 0;left: 50%;z-index: -1;}#sk-container-id-1 div.sk-parallel-item {display: flex;flex-direction: column;z-index: 1;position: relative;background-color: white;}#sk-container-id-1 div.sk-parallel-item:first-child::after {align-self: flex-end;width: 50%;}#sk-container-id-1 div.sk-parallel-item:last-child::after {align-self: flex-start;width: 50%;}#sk-container-id-1 div.sk-parallel-item:only-child::after {width: 0;}#sk-container-id-1 div.sk-dashed-wrapped {border: 1px dashed gray;margin: 0 0.4em 0.5em 0.4em;box-sizing: border-box;padding-bottom: 0.4em;background-color: white;}#sk-container-id-1 div.sk-label label {font-family: monospace;font-weight: bold;display: inline-block;line-height: 1.2em;}#sk-container-id-1 div.sk-label-container {text-align: center;}#sk-container-id-1 div.sk-container {/* jupyter's `normalize.less` sets `[hidden] { display: none; }` but bootstrap.min.css set `[hidden] { display: none !important; }` so we also need the `!important` here to be able to override the default hidden behavior on the sphinx rendered scikit-learn.org. See: https://github.com/scikit-learn/scikit-learn/issues/21755 */display: inline-block !important;position: relative;}#sk-container-id-1 div.sk-text-repr-fallback {display: none;}</style><div id=\"sk-container-id-1\" class=\"sk-top-container\"><div class=\"sk-text-repr-fallback\"><pre>GridSearchCV(cv=5, estimator=RandomForestRegressor(random_state=10), n_jobs=-1,\n",
       "             param_grid={&#x27;bootstrap&#x27;: [True, False],\n",
       "                         &#x27;max_depth&#x27;: [3, 5, 7, 10, None],\n",
       "                         &#x27;max_features&#x27;: [&#x27;auto&#x27;, &#x27;sqrt&#x27;, &#x27;log2&#x27;, None],\n",
       "                         &#x27;min_samples_leaf&#x27;: [1, 2, 4],\n",
       "                         &#x27;min_samples_split&#x27;: [2, 5, 10],\n",
       "                         &#x27;n_estimators&#x27;: [100, 200, 300]},\n",
       "             scoring=&#x27;neg_mean_squared_error&#x27;, verbose=2)</pre><b>In a Jupyter environment, please rerun this cell to show the HTML representation or trust the notebook. <br />On GitHub, the HTML representation is unable to render, please try loading this page with nbviewer.org.</b></div><div class=\"sk-container\" hidden><div class=\"sk-item sk-dashed-wrapped\"><div class=\"sk-label-container\"><div class=\"sk-label sk-toggleable\"><input class=\"sk-toggleable__control sk-hidden--visually\" id=\"sk-estimator-id-1\" type=\"checkbox\" ><label for=\"sk-estimator-id-1\" class=\"sk-toggleable__label sk-toggleable__label-arrow\">GridSearchCV</label><div class=\"sk-toggleable__content\"><pre>GridSearchCV(cv=5, estimator=RandomForestRegressor(random_state=10), n_jobs=-1,\n",
       "             param_grid={&#x27;bootstrap&#x27;: [True, False],\n",
       "                         &#x27;max_depth&#x27;: [3, 5, 7, 10, None],\n",
       "                         &#x27;max_features&#x27;: [&#x27;auto&#x27;, &#x27;sqrt&#x27;, &#x27;log2&#x27;, None],\n",
       "                         &#x27;min_samples_leaf&#x27;: [1, 2, 4],\n",
       "                         &#x27;min_samples_split&#x27;: [2, 5, 10],\n",
       "                         &#x27;n_estimators&#x27;: [100, 200, 300]},\n",
       "             scoring=&#x27;neg_mean_squared_error&#x27;, verbose=2)</pre></div></div></div><div class=\"sk-parallel\"><div class=\"sk-parallel-item\"><div class=\"sk-item\"><div class=\"sk-label-container\"><div class=\"sk-label sk-toggleable\"><input class=\"sk-toggleable__control sk-hidden--visually\" id=\"sk-estimator-id-2\" type=\"checkbox\" ><label for=\"sk-estimator-id-2\" class=\"sk-toggleable__label sk-toggleable__label-arrow\">estimator: RandomForestRegressor</label><div class=\"sk-toggleable__content\"><pre>RandomForestRegressor(random_state=10)</pre></div></div></div><div class=\"sk-serial\"><div class=\"sk-item\"><div class=\"sk-estimator sk-toggleable\"><input class=\"sk-toggleable__control sk-hidden--visually\" id=\"sk-estimator-id-3\" type=\"checkbox\" ><label for=\"sk-estimator-id-3\" class=\"sk-toggleable__label sk-toggleable__label-arrow\">RandomForestRegressor</label><div class=\"sk-toggleable__content\"><pre>RandomForestRegressor(random_state=10)</pre></div></div></div></div></div></div></div></div></div></div>"
      ],
      "text/plain": [
       "GridSearchCV(cv=5, estimator=RandomForestRegressor(random_state=10), n_jobs=-1,\n",
       "             param_grid={'bootstrap': [True, False],\n",
       "                         'max_depth': [3, 5, 7, 10, None],\n",
       "                         'max_features': ['auto', 'sqrt', 'log2', None],\n",
       "                         'min_samples_leaf': [1, 2, 4],\n",
       "                         'min_samples_split': [2, 5, 10],\n",
       "                         'n_estimators': [100, 200, 300]},\n",
       "             scoring='neg_mean_squared_error', verbose=2)"
      ]
     },
     "execution_count": 45,
     "metadata": {},
     "output_type": "execute_result"
    }
   ],
   "source": [
    "grid_search.fit(X_train, y_train)"
   ]
  },
  {
   "cell_type": "code",
   "execution_count": 47,
   "id": "b9ce9371-e31c-43cc-b832-0e28c1a9d2da",
   "metadata": {},
   "outputs": [
    {
     "name": "stdout",
     "output_type": "stream",
     "text": [
      "Best Hyperparameters: {'bootstrap': True, 'max_depth': 5, 'max_features': 'auto', 'min_samples_leaf': 4, 'min_samples_split': 2, 'n_estimators': 100}\n"
     ]
    }
   ],
   "source": [
    "# Get the best parameters from GridSearchCV\n",
    "print(f\"Best Hyperparameters: {grid_search.best_params_}\")"
   ]
  },
  {
   "cell_type": "code",
   "execution_count": 49,
   "id": "6246aa4a-6712-439c-993d-a0b358ec7c9f",
   "metadata": {},
   "outputs": [],
   "source": [
    "# Train the model using the best hyperparameters\n",
    "best_RF_regressor = grid_search.best_estimator_"
   ]
  },
  {
   "cell_type": "code",
   "execution_count": 51,
   "id": "a3984aad-6171-433c-8494-fb5091991862",
   "metadata": {},
   "outputs": [],
   "source": [
    "# Predict on training data and evaluate model performance\n",
    "y_pred_train = best_RF_regressor.predict(X_train)\n",
    "MAE = mean_absolute_error(y_train, y_pred_train)\n",
    "R2 = r2_score(y_train, y_pred_train)\n",
    "MSE = mean_squared_error(y_train, y_pred_train)\n",
    "RMSE = np.sqrt(MSE)"
   ]
  },
  {
   "cell_type": "code",
   "execution_count": 53,
   "id": "562e0231-5059-49bc-bcaa-719e89cfb890",
   "metadata": {},
   "outputs": [
    {
     "name": "stdout",
     "output_type": "stream",
     "text": [
      "Training Data Evaluation Metrics:\n",
      "R^2: 0.6202350338540674\n",
      "MAE: 738.1329236373928\n",
      "MSE: 1104988.7701224189\n",
      "RMSE: 1051.18446055981\n"
     ]
    }
   ],
   "source": [
    "# Print evaluation metrics for training data\n",
    "print(\"Training Data Evaluation Metrics:\")\n",
    "print(f\"R^2: {R2}\")\n",
    "print(f\"MAE: {MAE}\")\n",
    "print(f\"MSE: {MSE}\")\n",
    "print(f\"RMSE: {RMSE}\")"
   ]
  },
  {
   "cell_type": "code",
   "execution_count": 55,
   "id": "849ba27a-b5c6-42b8-99de-273dc75f11df",
   "metadata": {},
   "outputs": [],
   "source": [
    "# Predict on test data and evaluate model performance\n",
    "y_pred_test = best_RF_regressor.predict(X_test)\n",
    "MAE_test = mean_absolute_error(y_test, y_pred_test)\n",
    "R2_test = r2_score(y_test, y_pred_test)\n",
    "MSE_test = mean_squared_error(y_test, y_pred_test)\n",
    "RMSE_test = np.sqrt(MSE_test)"
   ]
  },
  {
   "cell_type": "code",
   "execution_count": 57,
   "id": "cdfa9160-1dc9-4e9f-92ba-9f8596e99f85",
   "metadata": {},
   "outputs": [
    {
     "name": "stdout",
     "output_type": "stream",
     "text": [
      "Testing Data Evaluation Metrics:\n",
      "R^2: 0.5953880181048771\n",
      "MAE: 761.8254225563404\n",
      "MSE: 1180666.5847474185\n",
      "RMSE: 1086.5848263009284\n"
     ]
    }
   ],
   "source": [
    "# Print evaluation metrics for testing data\n",
    "print(\"Testing Data Evaluation Metrics:\")\n",
    "print(f\"R^2: {R2_test}\")\n",
    "print(f\"MAE: {MAE_test}\")\n",
    "print(f\"MSE: {MSE_test}\")\n",
    "print(f\"RMSE: {RMSE_test}\")"
   ]
  },
  {
   "cell_type": "code",
   "execution_count": 59,
   "id": "420be6ea-0ae8-4356-99f4-385a2dbeb1ab",
   "metadata": {},
   "outputs": [],
   "source": [
    "# Ensure that the test dataset has the same feature columns as the training dataset\n",
    "X_test_final = big_mart_df_test.drop([\"Item_Outlet_Sales\"], axis=1)  # Remove the target column from test data\n"
   ]
  },
  {
   "cell_type": "code",
   "execution_count": 61,
   "id": "e1ce0074-f566-4da6-acd7-077a52febe4a",
   "metadata": {},
   "outputs": [],
   "source": [
    "# Predict using the trained regression model\n",
    "RF_predictions = best_RF_regressor.predict(X_test_final)"
   ]
  },
  {
   "cell_type": "code",
   "execution_count": 63,
   "id": "eee3d9f2-8079-4f6f-8b4f-72b82e852030",
   "metadata": {},
   "outputs": [
    {
     "data": {
      "text/html": [
       "<div>\n",
       "<style scoped>\n",
       "    .dataframe tbody tr th:only-of-type {\n",
       "        vertical-align: middle;\n",
       "    }\n",
       "\n",
       "    .dataframe tbody tr th {\n",
       "        vertical-align: top;\n",
       "    }\n",
       "\n",
       "    .dataframe thead th {\n",
       "        text-align: right;\n",
       "    }\n",
       "</style>\n",
       "<table border=\"1\" class=\"dataframe\">\n",
       "  <thead>\n",
       "    <tr style=\"text-align: right;\">\n",
       "      <th></th>\n",
       "      <th>Item_Weight</th>\n",
       "      <th>Item_Visibility</th>\n",
       "      <th>Item_MRP</th>\n",
       "      <th>Outlet_Establishment_Year</th>\n",
       "      <th>Item_Outlet_Sales</th>\n",
       "      <th>Item_Fat_Content_REGULAR</th>\n",
       "      <th>Item_Type_BREADS</th>\n",
       "      <th>Item_Type_BREAKFAST</th>\n",
       "      <th>Item_Type_CANNED</th>\n",
       "      <th>Item_Type_DAIRY</th>\n",
       "      <th>...</th>\n",
       "      <th>Item_Type_SOFT DRINKS</th>\n",
       "      <th>Item_Type_STARCHY FOODS</th>\n",
       "      <th>Outlet_Size_MEDIUM</th>\n",
       "      <th>Outlet_Size_OTHERS</th>\n",
       "      <th>Outlet_Size_SMALL</th>\n",
       "      <th>Outlet_Location_Type_TIER 2</th>\n",
       "      <th>Outlet_Location_Type_TIER 3</th>\n",
       "      <th>Outlet_Type_SUPERMARKET TYPE1</th>\n",
       "      <th>Outlet_Type_SUPERMARKET TYPE2</th>\n",
       "      <th>Outlet_Type_SUPERMARKET TYPE3</th>\n",
       "    </tr>\n",
       "  </thead>\n",
       "  <tbody>\n",
       "    <tr>\n",
       "      <th>0</th>\n",
       "      <td>20.750000</td>\n",
       "      <td>0.007565</td>\n",
       "      <td>107.8622</td>\n",
       "      <td>1999</td>\n",
       "      <td>1698.988567</td>\n",
       "      <td>0</td>\n",
       "      <td>0</td>\n",
       "      <td>0</td>\n",
       "      <td>0</td>\n",
       "      <td>0</td>\n",
       "      <td>...</td>\n",
       "      <td>0</td>\n",
       "      <td>0</td>\n",
       "      <td>1</td>\n",
       "      <td>0</td>\n",
       "      <td>0</td>\n",
       "      <td>0</td>\n",
       "      <td>0</td>\n",
       "      <td>1</td>\n",
       "      <td>0</td>\n",
       "      <td>0</td>\n",
       "    </tr>\n",
       "    <tr>\n",
       "      <th>1</th>\n",
       "      <td>8.300000</td>\n",
       "      <td>0.038428</td>\n",
       "      <td>87.3198</td>\n",
       "      <td>2007</td>\n",
       "      <td>1428.570304</td>\n",
       "      <td>1</td>\n",
       "      <td>0</td>\n",
       "      <td>0</td>\n",
       "      <td>0</td>\n",
       "      <td>1</td>\n",
       "      <td>...</td>\n",
       "      <td>0</td>\n",
       "      <td>0</td>\n",
       "      <td>0</td>\n",
       "      <td>1</td>\n",
       "      <td>0</td>\n",
       "      <td>1</td>\n",
       "      <td>0</td>\n",
       "      <td>1</td>\n",
       "      <td>0</td>\n",
       "      <td>0</td>\n",
       "    </tr>\n",
       "    <tr>\n",
       "      <th>2</th>\n",
       "      <td>14.600000</td>\n",
       "      <td>0.099575</td>\n",
       "      <td>241.7538</td>\n",
       "      <td>1998</td>\n",
       "      <td>550.086640</td>\n",
       "      <td>0</td>\n",
       "      <td>0</td>\n",
       "      <td>0</td>\n",
       "      <td>0</td>\n",
       "      <td>0</td>\n",
       "      <td>...</td>\n",
       "      <td>0</td>\n",
       "      <td>0</td>\n",
       "      <td>0</td>\n",
       "      <td>1</td>\n",
       "      <td>0</td>\n",
       "      <td>0</td>\n",
       "      <td>1</td>\n",
       "      <td>0</td>\n",
       "      <td>0</td>\n",
       "      <td>0</td>\n",
       "    </tr>\n",
       "    <tr>\n",
       "      <th>3</th>\n",
       "      <td>7.315000</td>\n",
       "      <td>0.015388</td>\n",
       "      <td>155.0340</td>\n",
       "      <td>2007</td>\n",
       "      <td>2504.117045</td>\n",
       "      <td>0</td>\n",
       "      <td>0</td>\n",
       "      <td>0</td>\n",
       "      <td>0</td>\n",
       "      <td>0</td>\n",
       "      <td>...</td>\n",
       "      <td>0</td>\n",
       "      <td>0</td>\n",
       "      <td>0</td>\n",
       "      <td>1</td>\n",
       "      <td>0</td>\n",
       "      <td>1</td>\n",
       "      <td>0</td>\n",
       "      <td>1</td>\n",
       "      <td>0</td>\n",
       "      <td>0</td>\n",
       "    </tr>\n",
       "    <tr>\n",
       "      <th>4</th>\n",
       "      <td>12.792854</td>\n",
       "      <td>0.118599</td>\n",
       "      <td>234.2300</td>\n",
       "      <td>1985</td>\n",
       "      <td>5558.461011</td>\n",
       "      <td>1</td>\n",
       "      <td>0</td>\n",
       "      <td>0</td>\n",
       "      <td>0</td>\n",
       "      <td>1</td>\n",
       "      <td>...</td>\n",
       "      <td>0</td>\n",
       "      <td>0</td>\n",
       "      <td>1</td>\n",
       "      <td>0</td>\n",
       "      <td>0</td>\n",
       "      <td>0</td>\n",
       "      <td>1</td>\n",
       "      <td>0</td>\n",
       "      <td>0</td>\n",
       "      <td>1</td>\n",
       "    </tr>\n",
       "  </tbody>\n",
       "</table>\n",
       "<p>5 rows × 29 columns</p>\n",
       "</div>"
      ],
      "text/plain": [
       "   Item_Weight  Item_Visibility  Item_MRP  Outlet_Establishment_Year  \\\n",
       "0    20.750000         0.007565  107.8622                       1999   \n",
       "1     8.300000         0.038428   87.3198                       2007   \n",
       "2    14.600000         0.099575  241.7538                       1998   \n",
       "3     7.315000         0.015388  155.0340                       2007   \n",
       "4    12.792854         0.118599  234.2300                       1985   \n",
       "\n",
       "   Item_Outlet_Sales  Item_Fat_Content_REGULAR  Item_Type_BREADS  \\\n",
       "0        1698.988567                         0                 0   \n",
       "1        1428.570304                         1                 0   \n",
       "2         550.086640                         0                 0   \n",
       "3        2504.117045                         0                 0   \n",
       "4        5558.461011                         1                 0   \n",
       "\n",
       "   Item_Type_BREAKFAST  Item_Type_CANNED  Item_Type_DAIRY  ...  \\\n",
       "0                    0                 0                0  ...   \n",
       "1                    0                 0                1  ...   \n",
       "2                    0                 0                0  ...   \n",
       "3                    0                 0                0  ...   \n",
       "4                    0                 0                1  ...   \n",
       "\n",
       "   Item_Type_SOFT DRINKS  Item_Type_STARCHY FOODS  Outlet_Size_MEDIUM  \\\n",
       "0                      0                        0                   1   \n",
       "1                      0                        0                   0   \n",
       "2                      0                        0                   0   \n",
       "3                      0                        0                   0   \n",
       "4                      0                        0                   1   \n",
       "\n",
       "   Outlet_Size_OTHERS  Outlet_Size_SMALL  Outlet_Location_Type_TIER 2  \\\n",
       "0                   0                  0                            0   \n",
       "1                   1                  0                            1   \n",
       "2                   1                  0                            0   \n",
       "3                   1                  0                            1   \n",
       "4                   0                  0                            0   \n",
       "\n",
       "   Outlet_Location_Type_TIER 3  Outlet_Type_SUPERMARKET TYPE1  \\\n",
       "0                            0                              1   \n",
       "1                            0                              1   \n",
       "2                            1                              0   \n",
       "3                            0                              1   \n",
       "4                            1                              0   \n",
       "\n",
       "   Outlet_Type_SUPERMARKET TYPE2  Outlet_Type_SUPERMARKET TYPE3  \n",
       "0                              0                              0  \n",
       "1                              0                              0  \n",
       "2                              0                              0  \n",
       "3                              0                              0  \n",
       "4                              0                              1  \n",
       "\n",
       "[5 rows x 29 columns]"
      ]
     },
     "execution_count": 63,
     "metadata": {},
     "output_type": "execute_result"
    }
   ],
   "source": [
    "big_mart_df_test.loc[ : , 'Item_Outlet_Sales'] = RF_predictions\n",
    "\n",
    "big_mart_df_test.head()"
   ]
  },
  {
   "cell_type": "code",
   "execution_count": 65,
   "id": "14335c69-ee88-4392-b447-52417147f58c",
   "metadata": {},
   "outputs": [
    {
     "data": {
      "text/plain": [
       "0       1698.988567\n",
       "1       1428.570304\n",
       "2        550.086640\n",
       "3       2504.117045\n",
       "4       5558.461011\n",
       "           ...     \n",
       "5676    2110.225085\n",
       "5677    2518.875599\n",
       "5678    2045.384403\n",
       "5679    3783.323079\n",
       "5680    1402.653221\n",
       "Name: Item_Outlet_Sales, Length: 5681, dtype: float64"
      ]
     },
     "execution_count": 65,
     "metadata": {},
     "output_type": "execute_result"
    }
   ],
   "source": [
    "big_mart_df_test['Item_Outlet_Sales']"
   ]
  },
  {
   "cell_type": "code",
   "execution_count": 67,
   "id": "f87fb5c2-9719-4422-8b89-00bbabefe18c",
   "metadata": {},
   "outputs": [],
   "source": [
    "# Prepare the final test data for submission\n",
    "big_mart_df_test_with_ids['Item_Outlet_Sales'] = RF_predictions  # Add predicted sales\n"
   ]
  },
  {
   "cell_type": "code",
   "execution_count": 69,
   "id": "9e00fbd7-fb96-4c26-91fe-cee6c8883166",
   "metadata": {},
   "outputs": [
    {
     "data": {
      "text/html": [
       "<div>\n",
       "<style scoped>\n",
       "    .dataframe tbody tr th:only-of-type {\n",
       "        vertical-align: middle;\n",
       "    }\n",
       "\n",
       "    .dataframe tbody tr th {\n",
       "        vertical-align: top;\n",
       "    }\n",
       "\n",
       "    .dataframe thead th {\n",
       "        text-align: right;\n",
       "    }\n",
       "</style>\n",
       "<table border=\"1\" class=\"dataframe\">\n",
       "  <thead>\n",
       "    <tr style=\"text-align: right;\">\n",
       "      <th></th>\n",
       "      <th>Item_Identifier</th>\n",
       "      <th>Outlet_Identifier</th>\n",
       "      <th>Item_Outlet_Sales</th>\n",
       "    </tr>\n",
       "  </thead>\n",
       "  <tbody>\n",
       "    <tr>\n",
       "      <th>0</th>\n",
       "      <td>FDW58</td>\n",
       "      <td>OUT049</td>\n",
       "      <td>1698.988567</td>\n",
       "    </tr>\n",
       "    <tr>\n",
       "      <th>1</th>\n",
       "      <td>FDW14</td>\n",
       "      <td>OUT017</td>\n",
       "      <td>1428.570304</td>\n",
       "    </tr>\n",
       "    <tr>\n",
       "      <th>2</th>\n",
       "      <td>NCN55</td>\n",
       "      <td>OUT010</td>\n",
       "      <td>550.086640</td>\n",
       "    </tr>\n",
       "    <tr>\n",
       "      <th>3</th>\n",
       "      <td>FDQ58</td>\n",
       "      <td>OUT017</td>\n",
       "      <td>2504.117045</td>\n",
       "    </tr>\n",
       "    <tr>\n",
       "      <th>4</th>\n",
       "      <td>FDY38</td>\n",
       "      <td>OUT027</td>\n",
       "      <td>5558.461011</td>\n",
       "    </tr>\n",
       "  </tbody>\n",
       "</table>\n",
       "</div>"
      ],
      "text/plain": [
       "  Item_Identifier Outlet_Identifier  Item_Outlet_Sales\n",
       "0           FDW58            OUT049        1698.988567\n",
       "1           FDW14            OUT017        1428.570304\n",
       "2           NCN55            OUT010         550.086640\n",
       "3           FDQ58            OUT017        2504.117045\n",
       "4           FDY38            OUT027        5558.461011"
      ]
     },
     "execution_count": 69,
     "metadata": {},
     "output_type": "execute_result"
    }
   ],
   "source": [
    "big_mart_df_test_with_ids.head()"
   ]
  },
  {
   "cell_type": "code",
   "execution_count": 71,
   "id": "044d3a46-0cbc-4e4f-a70d-4d9f65d5fa14",
   "metadata": {},
   "outputs": [],
   "source": [
    "# Save the final output (predictions) to a CSV file\n",
    "big_mart_df_test_with_ids.to_csv('BM_submission_RF-15-02-25.csv', index=False)"
   ]
  },
  {
   "cell_type": "code",
   "execution_count": null,
   "id": "b0260b9f-3f4b-4831-b20c-fa3d2e87e2ae",
   "metadata": {},
   "outputs": [],
   "source": []
  }
 ],
 "metadata": {
  "kernelspec": {
   "display_name": "Python 3 (ipykernel)",
   "language": "python",
   "name": "python3"
  },
  "language_info": {
   "codemirror_mode": {
    "name": "ipython",
    "version": 3
   },
   "file_extension": ".py",
   "mimetype": "text/x-python",
   "name": "python",
   "nbconvert_exporter": "python",
   "pygments_lexer": "ipython3",
   "version": "3.11.7"
  }
 },
 "nbformat": 4,
 "nbformat_minor": 5
}
